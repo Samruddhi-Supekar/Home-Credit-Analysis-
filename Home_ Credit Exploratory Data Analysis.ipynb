{
 "cells": [
  {
   "cell_type": "markdown",
   "metadata": {},
   "source": [
    "# Home Credit EDA "
   ]
  },
  {
   "cell_type": "markdown",
   "metadata": {},
   "source": [
    "### Table of Contents\n",
    " * [Set up](#setup)\n",
    " * [Introduction](#intro)\n",
    " * [Description](#description)\n",
    "     * [How many variables and observations?](#names_and_obs)\n",
    "     * [What are the column names and descriptions?](#names)\n",
    " * [Missing Data Discussion](#md-discussion)\n",
    "     * [How much of the data is missing?](#missing)\n",
    " * [Exploratory Vizualizations and Summary Tables](#evst)\n",
    "     * [Loan Amounts Distribution](#loan_amounts_dist)\n",
    "     * [Loan Amounts Distribution by Education](#loan_amounts_by_education)\n",
    "     * [Count of Loan Purposes by Payment Difficulties](#loan_purpose_by_target)\n",
    "     * [What does our data look like?](#look)\n",
    "     * [What are the correlations of the different variables with the target?](#correlation)\n",
    " * [Adding Some Data](#add)\n",
    "     * [What is the correlation with the added data?](#add_corr)\n",
    "     * [What percentage of those with issues have had a previous loan?](#prev_loan)\n",
    " * [Results](#results)\n"
   ]
  },
  {
   "cell_type": "markdown",
   "metadata": {},
   "source": [
    "## Set up <a class=\"anchor\" id=\"setup\"></a>"
   ]
  },
  {
   "cell_type": "code",
   "execution_count": 1,
   "metadata": {},
   "outputs": [],
   "source": [
    "#Get the different packages that might be used\n",
    "import pandas as pd\n",
    "import matplotlib.pyplot as plt\n",
    "import numpy as np\n",
    "import os\n",
    "import seaborn as sns\n",
    "#!pip install opendatasets\n",
    "import opendatasets as od"
   ]
  },
  {
   "cell_type": "code",
   "execution_count": 2,
   "metadata": {},
   "outputs": [
    {
     "name": "stdout",
     "output_type": "stream",
     "text": [
      "Skipping, found downloaded files in \"./home-credit-default-risk\" (use force=True to force download)\n"
     ]
    }
   ],
   "source": [
    "#Get the data #Make sure that your kaggle.json file is in the working directory\n",
    "od.download(\"https://www.kaggle.com/competitions/home-credit-default-risk/data\")"
   ]
  },
  {
   "cell_type": "code",
   "execution_count": 3,
   "metadata": {},
   "outputs": [],
   "source": [
    "#Get the working directory for file extraction\n",
    "current_working_directory = os.getcwd()"
   ]
  },
  {
   "cell_type": "code",
   "execution_count": 4,
   "metadata": {},
   "outputs": [],
   "source": [
    "#Get the required datasets\n",
    "test_data = pd.read_csv(current_working_directory + \"/home-credit-default-risk/application_test.csv\")\n",
    "train_data = pd.read_csv(current_working_directory + \"/home-credit-default-risk/application_train.csv\")\n",
    "previous_application_data = pd.read_csv(current_working_directory + \"/home-credit-default-risk/previous_application.csv\")"
   ]
  },
  {
   "cell_type": "code",
   "execution_count": 5,
   "metadata": {},
   "outputs": [],
   "source": [
    "#Create full datasets for exploration\n",
    "all_the_data = pd.concat([test_data, train_data], axis = 0)\n",
    "main_data_joined_prevapp = all_the_data.merge(previous_application_data, on = \"SK_ID_CURR\", how = \"left\")"
   ]
  },
  {
   "cell_type": "code",
   "execution_count": 6,
   "metadata": {},
   "outputs": [
    {
     "name": "stdout",
     "output_type": "stream",
     "text": [
      "(1687612, 158)\n",
      "(356255, 122)\n"
     ]
    }
   ],
   "source": [
    "#See if they match\n",
    "print(main_data_joined_prevapp.shape)\n",
    "print(all_the_data.shape)"
   ]
  },
  {
   "cell_type": "code",
   "execution_count": 7,
   "metadata": {},
   "outputs": [],
   "source": [
    "#Change the viewing so we can see what is there easier.\n",
    "#pd.set_option('display.max_rows', None)\n",
    "#pd.set_option('display.max_colwidth', None)\n",
    "\n",
    "#To revert these changes\n",
    "pd.reset_option('display.max_rows', None)\n",
    "pd.reset_option('display.max_colwidth', None)"
   ]
  },
  {
   "cell_type": "markdown",
   "metadata": {},
   "source": [
    "### Are there duplicate records after the merge of all data? <a class=\"anchor\" id=\"duplicates\"></a>"
   ]
  },
  {
   "cell_type": "code",
   "execution_count": 8,
   "metadata": {},
   "outputs": [
    {
     "name": "stdout",
     "output_type": "stream",
     "text": [
      "There are no duplicates in the main dataset.\n"
     ]
    }
   ],
   "source": [
    "#Check for duplicate records in the main dataset and give a nice output to that question.\n",
    "if all_the_data.duplicated(subset=[\"SK_ID_CURR\"]).any() == False: #The code before the .any() looks at the column \"SK_ID_CURR\" and checks to see if there are any duplicates. This returns a column that is a boolean. The .any() is looking to see if any of those are True.\n",
    "    print(\"There are no duplicates in the main dataset.\")\n",
    "else:\n",
    "    print(\"There are duplicates in the main dataset.\")"
   ]
  },
  {
   "cell_type": "code",
   "execution_count": 9,
   "metadata": {},
   "outputs": [
    {
     "name": "stdout",
     "output_type": "stream",
     "text": [
      "There are duplicates in the combined dataset.\n"
     ]
    }
   ],
   "source": [
    "#Check for duplicate records in the combined dataset and give a nice output to that question.\n",
    "if main_data_joined_prevapp.duplicated(subset=[\"SK_ID_CURR\"]).any() == False: #The code before the .any() looks at the column \"SK_ID_CURR\" and checks to see if there are any duplicates. This returns a column that is a boolean. The .any() is looking to see if any of those are True.\n",
    "    print(\"There are no duplicates in the combined dataset.\")\n",
    "else:\n",
    "    print(\"There are duplicates in the combined dataset.\")"
   ]
  },
  {
   "cell_type": "markdown",
   "metadata": {},
   "source": [
    "## Introduction <a class=\"anchor\" id=\"intro\"></a>"
   ]
  },
  {
   "cell_type": "markdown",
   "metadata": {},
   "source": [
    "Home Credit is interested in learning whether or not clients will run into \"payment difficulties\". Having this knowledge is in the best interest of both the client and the firm. With less people defaulting on their loans, there are more resources available to assist those that are in need of assistance. With better detection on payment difficulties, those that would run in to trouble are helped to not enter into debt that could be dehabilitating later."
   ]
  },
  {
   "cell_type": "markdown",
   "metadata": {},
   "source": [
    "## Description <a class=\"anchor\" id=\"description\"></a>"
   ]
  },
  {
   "cell_type": "markdown",
   "metadata": {},
   "source": [
    "The data that has been provided from Home Credit has a target variable that conveniently is labeled as \"target\" in the dataset. This is a 1 if people are going to run into any payment difficulties and a zero for all other situations. There are 120 independant variables that are related to this target. One of the columns is reserved for the observation number."
   ]
  },
  {
   "cell_type": "markdown",
   "metadata": {},
   "source": [
    "### How many variables and observations? <a class=\"anchor\" id=\"names_and_obs\"></a>"
   ]
  },
  {
   "cell_type": "code",
   "execution_count": 10,
   "metadata": {},
   "outputs": [
    {
     "data": {
      "text/plain": [
       "(356255, 122)"
      ]
     },
     "execution_count": 10,
     "metadata": {},
     "output_type": "execute_result"
    }
   ],
   "source": [
    "all_the_data.shape"
   ]
  },
  {
   "cell_type": "markdown",
   "metadata": {},
   "source": [
    "### What are the column names and descriptions? <a class=\"anchor\" id=\"names\"></a>"
   ]
  },
  {
   "cell_type": "code",
   "execution_count": 11,
   "metadata": {},
   "outputs": [
    {
     "data": {
      "text/html": [
       "<div>\n",
       "<style scoped>\n",
       "    .dataframe tbody tr th:only-of-type {\n",
       "        vertical-align: middle;\n",
       "    }\n",
       "\n",
       "    .dataframe tbody tr th {\n",
       "        vertical-align: top;\n",
       "    }\n",
       "\n",
       "    .dataframe thead th {\n",
       "        text-align: right;\n",
       "    }\n",
       "</style>\n",
       "<table border=\"1\" class=\"dataframe\">\n",
       "  <thead>\n",
       "    <tr style=\"text-align: right;\">\n",
       "      <th></th>\n",
       "      <th>Unnamed: 0</th>\n",
       "      <th>Table</th>\n",
       "      <th>Row</th>\n",
       "      <th>Description</th>\n",
       "      <th>Special</th>\n",
       "    </tr>\n",
       "  </thead>\n",
       "  <tbody>\n",
       "    <tr>\n",
       "      <th>0</th>\n",
       "      <td>1</td>\n",
       "      <td>application_{train|test}.csv</td>\n",
       "      <td>SK_ID_CURR</td>\n",
       "      <td>ID of loan in our sample</td>\n",
       "      <td>NaN</td>\n",
       "    </tr>\n",
       "    <tr>\n",
       "      <th>1</th>\n",
       "      <td>2</td>\n",
       "      <td>application_{train|test}.csv</td>\n",
       "      <td>TARGET</td>\n",
       "      <td>Target variable (1 - client with payment diffi...</td>\n",
       "      <td>NaN</td>\n",
       "    </tr>\n",
       "    <tr>\n",
       "      <th>2</th>\n",
       "      <td>5</td>\n",
       "      <td>application_{train|test}.csv</td>\n",
       "      <td>NAME_CONTRACT_TYPE</td>\n",
       "      <td>Identification if loan is cash or revolving</td>\n",
       "      <td>NaN</td>\n",
       "    </tr>\n",
       "    <tr>\n",
       "      <th>3</th>\n",
       "      <td>6</td>\n",
       "      <td>application_{train|test}.csv</td>\n",
       "      <td>CODE_GENDER</td>\n",
       "      <td>Gender of the client</td>\n",
       "      <td>NaN</td>\n",
       "    </tr>\n",
       "    <tr>\n",
       "      <th>4</th>\n",
       "      <td>7</td>\n",
       "      <td>application_{train|test}.csv</td>\n",
       "      <td>FLAG_OWN_CAR</td>\n",
       "      <td>Flag if the client owns a car</td>\n",
       "      <td>NaN</td>\n",
       "    </tr>\n",
       "    <tr>\n",
       "      <th>...</th>\n",
       "      <td>...</td>\n",
       "      <td>...</td>\n",
       "      <td>...</td>\n",
       "      <td>...</td>\n",
       "      <td>...</td>\n",
       "    </tr>\n",
       "    <tr>\n",
       "      <th>117</th>\n",
       "      <td>120</td>\n",
       "      <td>application_{train|test}.csv</td>\n",
       "      <td>AMT_REQ_CREDIT_BUREAU_DAY</td>\n",
       "      <td>Number of enquiries to Credit Bureau about the...</td>\n",
       "      <td>NaN</td>\n",
       "    </tr>\n",
       "    <tr>\n",
       "      <th>118</th>\n",
       "      <td>121</td>\n",
       "      <td>application_{train|test}.csv</td>\n",
       "      <td>AMT_REQ_CREDIT_BUREAU_WEEK</td>\n",
       "      <td>Number of enquiries to Credit Bureau about the...</td>\n",
       "      <td>NaN</td>\n",
       "    </tr>\n",
       "    <tr>\n",
       "      <th>119</th>\n",
       "      <td>122</td>\n",
       "      <td>application_{train|test}.csv</td>\n",
       "      <td>AMT_REQ_CREDIT_BUREAU_MON</td>\n",
       "      <td>Number of enquiries to Credit Bureau about the...</td>\n",
       "      <td>NaN</td>\n",
       "    </tr>\n",
       "    <tr>\n",
       "      <th>120</th>\n",
       "      <td>123</td>\n",
       "      <td>application_{train|test}.csv</td>\n",
       "      <td>AMT_REQ_CREDIT_BUREAU_QRT</td>\n",
       "      <td>Number of enquiries to Credit Bureau about the...</td>\n",
       "      <td>NaN</td>\n",
       "    </tr>\n",
       "    <tr>\n",
       "      <th>121</th>\n",
       "      <td>124</td>\n",
       "      <td>application_{train|test}.csv</td>\n",
       "      <td>AMT_REQ_CREDIT_BUREAU_YEAR</td>\n",
       "      <td>Number of enquiries to Credit Bureau about the...</td>\n",
       "      <td>NaN</td>\n",
       "    </tr>\n",
       "  </tbody>\n",
       "</table>\n",
       "<p>122 rows × 5 columns</p>\n",
       "</div>"
      ],
      "text/plain": [
       "     Unnamed: 0                         Table                         Row  \\\n",
       "0             1  application_{train|test}.csv                  SK_ID_CURR   \n",
       "1             2  application_{train|test}.csv                      TARGET   \n",
       "2             5  application_{train|test}.csv          NAME_CONTRACT_TYPE   \n",
       "3             6  application_{train|test}.csv                 CODE_GENDER   \n",
       "4             7  application_{train|test}.csv                FLAG_OWN_CAR   \n",
       "..          ...                           ...                         ...   \n",
       "117         120  application_{train|test}.csv   AMT_REQ_CREDIT_BUREAU_DAY   \n",
       "118         121  application_{train|test}.csv  AMT_REQ_CREDIT_BUREAU_WEEK   \n",
       "119         122  application_{train|test}.csv   AMT_REQ_CREDIT_BUREAU_MON   \n",
       "120         123  application_{train|test}.csv   AMT_REQ_CREDIT_BUREAU_QRT   \n",
       "121         124  application_{train|test}.csv  AMT_REQ_CREDIT_BUREAU_YEAR   \n",
       "\n",
       "                                           Description Special  \n",
       "0                             ID of loan in our sample     NaN  \n",
       "1    Target variable (1 - client with payment diffi...     NaN  \n",
       "2          Identification if loan is cash or revolving     NaN  \n",
       "3                                 Gender of the client     NaN  \n",
       "4                        Flag if the client owns a car     NaN  \n",
       "..                                                 ...     ...  \n",
       "117  Number of enquiries to Credit Bureau about the...     NaN  \n",
       "118  Number of enquiries to Credit Bureau about the...     NaN  \n",
       "119  Number of enquiries to Credit Bureau about the...     NaN  \n",
       "120  Number of enquiries to Credit Bureau about the...     NaN  \n",
       "121  Number of enquiries to Credit Bureau about the...     NaN  \n",
       "\n",
       "[122 rows x 5 columns]"
      ]
     },
     "execution_count": 11,
     "metadata": {},
     "output_type": "execute_result"
    }
   ],
   "source": [
    "#Read in the file\n",
    "column_names_and_descriptions = pd.read_csv(current_working_directory + \"/home-credit-default-risk/HomeCredit_columns_description.csv\", encoding = \"ISO-8859-1\")\n",
    "#Just look at the files that we are currently using\n",
    "column_names_and_descriptions[column_names_and_descriptions[\"Table\"] == 'application_{train|test}.csv']"
   ]
  },
  {
   "cell_type": "markdown",
   "metadata": {},
   "source": [
    "## Missing Data Discussion <a class=\"anchor\" id=\"md-discussion\"></a>"
   ]
  },
  {
   "cell_type": "markdown",
   "metadata": {},
   "source": [
    "Of the 120 independent variables, there are 66 that have missing variables. Of these 66, 17 of the variables are missing more than 60 percent of their data. As per a recommendation from Jeremy, these missing values are going to be replaced with zeros in order to not affect running of regressions in the future."
   ]
  },
  {
   "cell_type": "markdown",
   "metadata": {},
   "source": [
    "### How much of the data is missing? <a class=\"anchor\" id=\"missing\"></a>"
   ]
  },
  {
   "cell_type": "code",
   "execution_count": 12,
   "metadata": {},
   "outputs": [
    {
     "name": "stdout",
     "output_type": "stream",
     "text": [
      "(66, 1)\n"
     ]
    },
    {
     "data": {
      "text/html": [
       "<div>\n",
       "<style scoped>\n",
       "    .dataframe tbody tr th:only-of-type {\n",
       "        vertical-align: middle;\n",
       "    }\n",
       "\n",
       "    .dataframe tbody tr th {\n",
       "        vertical-align: top;\n",
       "    }\n",
       "\n",
       "    .dataframe thead th {\n",
       "        text-align: right;\n",
       "    }\n",
       "</style>\n",
       "<table border=\"1\" class=\"dataframe\">\n",
       "  <thead>\n",
       "    <tr style=\"text-align: right;\">\n",
       "      <th></th>\n",
       "      <th>missing</th>\n",
       "    </tr>\n",
       "  </thead>\n",
       "  <tbody>\n",
       "    <tr>\n",
       "      <th>COMMONAREA_MEDI</th>\n",
       "      <td>69.71</td>\n",
       "    </tr>\n",
       "    <tr>\n",
       "      <th>COMMONAREA_MODE</th>\n",
       "      <td>69.71</td>\n",
       "    </tr>\n",
       "    <tr>\n",
       "      <th>COMMONAREA_AVG</th>\n",
       "      <td>69.71</td>\n",
       "    </tr>\n",
       "    <tr>\n",
       "      <th>NONLIVINGAPARTMENTS_MEDI</th>\n",
       "      <td>69.29</td>\n",
       "    </tr>\n",
       "    <tr>\n",
       "      <th>NONLIVINGAPARTMENTS_MODE</th>\n",
       "      <td>69.29</td>\n",
       "    </tr>\n",
       "    <tr>\n",
       "      <th>...</th>\n",
       "      <td>...</td>\n",
       "    </tr>\n",
       "    <tr>\n",
       "      <th>OBS_60_CNT_SOCIAL_CIRCLE</th>\n",
       "      <td>0.29</td>\n",
       "    </tr>\n",
       "    <tr>\n",
       "      <th>DEF_60_CNT_SOCIAL_CIRCLE</th>\n",
       "      <td>0.29</td>\n",
       "    </tr>\n",
       "    <tr>\n",
       "      <th>EXT_SOURCE_2</th>\n",
       "      <td>0.19</td>\n",
       "    </tr>\n",
       "    <tr>\n",
       "      <th>AMT_GOODS_PRICE</th>\n",
       "      <td>0.08</td>\n",
       "    </tr>\n",
       "    <tr>\n",
       "      <th>AMT_ANNUITY</th>\n",
       "      <td>0.01</td>\n",
       "    </tr>\n",
       "  </tbody>\n",
       "</table>\n",
       "<p>66 rows × 1 columns</p>\n",
       "</div>"
      ],
      "text/plain": [
       "                          missing\n",
       "COMMONAREA_MEDI             69.71\n",
       "COMMONAREA_MODE             69.71\n",
       "COMMONAREA_AVG              69.71\n",
       "NONLIVINGAPARTMENTS_MEDI    69.29\n",
       "NONLIVINGAPARTMENTS_MODE    69.29\n",
       "...                           ...\n",
       "OBS_60_CNT_SOCIAL_CIRCLE     0.29\n",
       "DEF_60_CNT_SOCIAL_CIRCLE     0.29\n",
       "EXT_SOURCE_2                 0.19\n",
       "AMT_GOODS_PRICE              0.08\n",
       "AMT_ANNUITY                  0.01\n",
       "\n",
       "[66 rows x 1 columns]"
      ]
     },
     "execution_count": 12,
     "metadata": {},
     "output_type": "execute_result"
    }
   ],
   "source": [
    "#Sum all the nulls and divide by number of rows to get percentage\n",
    "all_the_data_missing = pd.DataFrame(round(all_the_data.isnull().sum()/all_the_data.shape[0]*100,2))\n",
    "#Name this output to assist in code below\n",
    "all_the_data_missing.columns = ['missing']\n",
    "#Check the dimensions\n",
    "print(all_the_data_missing[all_the_data_missing.missing > 0].shape)\n",
    "#View the sorted amount of missing values\n",
    "all_the_data_missing[all_the_data_missing.missing > 0].sort_values('missing', ascending=False)"
   ]
  },
  {
   "cell_type": "markdown",
   "metadata": {},
   "source": [
    "### How many variables have missing data? <a class=\"anchor\" id=\"missing2\"></a>\n",
    "    "
   ]
  },
  {
   "cell_type": "code",
   "execution_count": 13,
   "metadata": {},
   "outputs": [
    {
     "name": "stdout",
     "output_type": "stream",
     "text": [
      "66 of the variables are missing data.\n"
     ]
    }
   ],
   "source": [
    "#find the amount of variables that have missing data\n",
    "print(len(all_the_data_missing[all_the_data_missing.missing > 0]),\"of the variables are missing data.\")"
   ]
  },
  {
   "cell_type": "code",
   "execution_count": 14,
   "metadata": {},
   "outputs": [
    {
     "name": "stdout",
     "output_type": "stream",
     "text": [
      "17 of the 66 variables are missing more than 60% of their data.\n"
     ]
    }
   ],
   "source": [
    "#find the amount of variables with missing data amounts above 60%.\n",
    "print(len(all_the_data_missing[all_the_data_missing.missing > 60]),\"of the 66 variables are missing more than 60% of their data.\")"
   ]
  },
  {
   "cell_type": "markdown",
   "metadata": {},
   "source": [
    "## Exploratory Vizualizations and Summary Tables <a class=\"anchor\" id=\"evst\"></a>"
   ]
  },
  {
   "cell_type": "markdown",
   "metadata": {},
   "source": [
    "### Loan Amounts Distribution <a class=\"anchor\" id=\"loan_amounts_dist\"></a>"
   ]
  },
  {
   "cell_type": "code",
   "execution_count": 15,
   "metadata": {},
   "outputs": [
    {
     "data": {
      "image/png": "[encoded data removed]",
      "text/plain": [
       "<Figure size 720x432 with 1 Axes>"
      ]
     },
     "metadata": {
      "needs_background": "light"
     },
     "output_type": "display_data"
    }
   ],
   "source": [
    "plt.figure(figsize=(10, 6))\n",
    "plt.hist(all_the_data['AMT_CREDIT'], bins=30, color='skyblue')\n",
    "plt.xlabel('Credit Amount')\n",
    "plt.ylabel('Count')\n",
    "plt.title('Distribution of Loan Amounts')\n",
    "plt.show()"
   ]
  },
  {
   "cell_type": "markdown",
   "metadata": {},
   "source": [
    "### Loan Amounts Distribution by Education <a class=\"anchor\" id=\"loan_amounts_by_education\"></a>"
   ]
  },
  {
   "cell_type": "code",
   "execution_count": 16,
   "metadata": {},
   "outputs": [
    {
     "data": {
      "image/png": "[encoded data removed]",
      "text/plain": [
       "<Figure size 720x432 with 1 Axes>"
      ]
     },
     "metadata": {
      "needs_background": "light"
     },
     "output_type": "display_data"
    }
   ],
   "source": [
    "plt.figure(figsize=(10, 6))\n",
    "sns.boxplot(data=all_the_data, x='NAME_EDUCATION_TYPE', y='AMT_CREDIT', palette='Set3')\n",
    "plt.xlabel('Education Level')\n",
    "plt.ylabel('Loan Amount (AMT_CREDIT)')\n",
    "plt.title('Distribution of Loan Amounts by Education Level')\n",
    "plt.xticks(rotation=45)\n",
    "plt.tight_layout()\n",
    "plt.show()"
   ]
  },
  {
   "cell_type": "markdown",
   "metadata": {},
   "source": [
    "### Count of Loan Purposes by Payment Difficulties <a class=\"anchor\" id=\"loan_purpose_by_target\"></a>"
   ]
  },
  {
   "cell_type": "code",
   "execution_count": 17,
   "metadata": {},
   "outputs": [
    {
     "data": {
      "text/plain": [
       "<Figure size 720x432 with 0 Axes>"
      ]
     },
     "metadata": {},
     "output_type": "display_data"
    },
    {
     "data": {
      "image/png": "[encoded data removed]",
      "text/plain": [
       "<Figure size 432x288 with 1 Axes>"
      ]
     },
     "metadata": {
      "needs_background": "light"
     },
     "output_type": "display_data"
    }
   ],
   "source": [
    "grouped_data = all_the_data.groupby(['TARGET', 'NAME_CONTRACT_TYPE']).size().unstack()\n",
    "\n",
    "plt.figure(figsize=(10, 6))\n",
    "grouped_data.plot(kind='bar', stacked=True)\n",
    "plt.xlabel('Payment Difficulties (TARGET)')\n",
    "plt.ylabel('Count')\n",
    "plt.title('Count of Loan Purposes by Payment Difficulties')\n",
    "plt.legend(title='Loan Purpose')\n",
    "plt.show()"
   ]
  },
  {
   "cell_type": "markdown",
   "metadata": {},
   "source": [
    "### What does our data look like? <a class=\"anchor\" id=\"look\"></a>"
   ]
  },
  {
   "cell_type": "code",
   "execution_count": 18,
   "metadata": {},
   "outputs": [
    {
     "data": {
      "text/html": [
       "<div>\n",
       "<style scoped>\n",
       "    .dataframe tbody tr th:only-of-type {\n",
       "        vertical-align: middle;\n",
       "    }\n",
       "\n",
       "    .dataframe tbody tr th {\n",
       "        vertical-align: top;\n",
       "    }\n",
       "\n",
       "    .dataframe thead th {\n",
       "        text-align: right;\n",
       "    }\n",
       "</style>\n",
       "<table border=\"1\" class=\"dataframe\">\n",
       "  <thead>\n",
       "    <tr style=\"text-align: right;\">\n",
       "      <th></th>\n",
       "      <th>count</th>\n",
       "      <th>mean</th>\n",
       "      <th>std</th>\n",
       "      <th>min</th>\n",
       "      <th>25%</th>\n",
       "      <th>50%</th>\n",
       "      <th>75%</th>\n",
       "      <th>max</th>\n",
       "    </tr>\n",
       "  </thead>\n",
       "  <tbody>\n",
       "    <tr>\n",
       "      <th>SK_ID_CURR</th>\n",
       "      <td>356255.0</td>\n",
       "      <td>278128.00</td>\n",
       "      <td>102842.10</td>\n",
       "      <td>100001.0</td>\n",
       "      <td>189064.5</td>\n",
       "      <td>278128.0</td>\n",
       "      <td>367191.5</td>\n",
       "      <td>456255.0</td>\n",
       "    </tr>\n",
       "    <tr>\n",
       "      <th>CNT_CHILDREN</th>\n",
       "      <td>356255.0</td>\n",
       "      <td>0.41</td>\n",
       "      <td>0.72</td>\n",
       "      <td>0.0</td>\n",
       "      <td>0.0</td>\n",
       "      <td>0.0</td>\n",
       "      <td>1.0</td>\n",
       "      <td>20.0</td>\n",
       "    </tr>\n",
       "    <tr>\n",
       "      <th>AMT_INCOME_TOTAL</th>\n",
       "      <td>356255.0</td>\n",
       "      <td>170116.06</td>\n",
       "      <td>223506.82</td>\n",
       "      <td>25650.0</td>\n",
       "      <td>112500.0</td>\n",
       "      <td>153000.0</td>\n",
       "      <td>202500.0</td>\n",
       "      <td>117000000.0</td>\n",
       "    </tr>\n",
       "    <tr>\n",
       "      <th>AMT_CREDIT</th>\n",
       "      <td>356255.0</td>\n",
       "      <td>587767.41</td>\n",
       "      <td>398623.69</td>\n",
       "      <td>45000.0</td>\n",
       "      <td>270000.0</td>\n",
       "      <td>500211.0</td>\n",
       "      <td>797557.5</td>\n",
       "      <td>4050000.0</td>\n",
       "    </tr>\n",
       "    <tr>\n",
       "      <th>AMT_ANNUITY</th>\n",
       "      <td>356219.0</td>\n",
       "      <td>27425.56</td>\n",
       "      <td>14732.81</td>\n",
       "      <td>1615.5</td>\n",
       "      <td>16731.0</td>\n",
       "      <td>25078.5</td>\n",
       "      <td>34960.5</td>\n",
       "      <td>258025.5</td>\n",
       "    </tr>\n",
       "    <tr>\n",
       "      <th>...</th>\n",
       "      <td>...</td>\n",
       "      <td>...</td>\n",
       "      <td>...</td>\n",
       "      <td>...</td>\n",
       "      <td>...</td>\n",
       "      <td>...</td>\n",
       "      <td>...</td>\n",
       "      <td>...</td>\n",
       "    </tr>\n",
       "    <tr>\n",
       "      <th>AMT_REQ_CREDIT_BUREAU_WEEK</th>\n",
       "      <td>308687.0</td>\n",
       "      <td>0.03</td>\n",
       "      <td>0.19</td>\n",
       "      <td>0.0</td>\n",
       "      <td>0.0</td>\n",
       "      <td>0.0</td>\n",
       "      <td>0.0</td>\n",
       "      <td>8.0</td>\n",
       "    </tr>\n",
       "    <tr>\n",
       "      <th>AMT_REQ_CREDIT_BUREAU_MON</th>\n",
       "      <td>308687.0</td>\n",
       "      <td>0.23</td>\n",
       "      <td>0.86</td>\n",
       "      <td>0.0</td>\n",
       "      <td>0.0</td>\n",
       "      <td>0.0</td>\n",
       "      <td>0.0</td>\n",
       "      <td>27.0</td>\n",
       "    </tr>\n",
       "    <tr>\n",
       "      <th>AMT_REQ_CREDIT_BUREAU_QRT</th>\n",
       "      <td>308687.0</td>\n",
       "      <td>0.30</td>\n",
       "      <td>0.79</td>\n",
       "      <td>0.0</td>\n",
       "      <td>0.0</td>\n",
       "      <td>0.0</td>\n",
       "      <td>0.0</td>\n",
       "      <td>261.0</td>\n",
       "    </tr>\n",
       "    <tr>\n",
       "      <th>AMT_REQ_CREDIT_BUREAU_YEAR</th>\n",
       "      <td>308687.0</td>\n",
       "      <td>1.91</td>\n",
       "      <td>1.87</td>\n",
       "      <td>0.0</td>\n",
       "      <td>0.0</td>\n",
       "      <td>1.0</td>\n",
       "      <td>3.0</td>\n",
       "      <td>25.0</td>\n",
       "    </tr>\n",
       "    <tr>\n",
       "      <th>TARGET</th>\n",
       "      <td>307511.0</td>\n",
       "      <td>0.08</td>\n",
       "      <td>0.27</td>\n",
       "      <td>0.0</td>\n",
       "      <td>0.0</td>\n",
       "      <td>0.0</td>\n",
       "      <td>0.0</td>\n",
       "      <td>1.0</td>\n",
       "    </tr>\n",
       "  </tbody>\n",
       "</table>\n",
       "<p>106 rows × 8 columns</p>\n",
       "</div>"
      ],
      "text/plain": [
       "                               count       mean        std       min  \\\n",
       "SK_ID_CURR                  356255.0  278128.00  102842.10  100001.0   \n",
       "CNT_CHILDREN                356255.0       0.41       0.72       0.0   \n",
       "AMT_INCOME_TOTAL            356255.0  170116.06  223506.82   25650.0   \n",
       "AMT_CREDIT                  356255.0  587767.41  398623.69   45000.0   \n",
       "AMT_ANNUITY                 356219.0   27425.56   14732.81    1615.5   \n",
       "...                              ...        ...        ...       ...   \n",
       "AMT_REQ_CREDIT_BUREAU_WEEK  308687.0       0.03       0.19       0.0   \n",
       "AMT_REQ_CREDIT_BUREAU_MON   308687.0       0.23       0.86       0.0   \n",
       "AMT_REQ_CREDIT_BUREAU_QRT   308687.0       0.30       0.79       0.0   \n",
       "AMT_REQ_CREDIT_BUREAU_YEAR  308687.0       1.91       1.87       0.0   \n",
       "TARGET                      307511.0       0.08       0.27       0.0   \n",
       "\n",
       "                                 25%       50%       75%          max  \n",
       "SK_ID_CURR                  189064.5  278128.0  367191.5     456255.0  \n",
       "CNT_CHILDREN                     0.0       0.0       1.0         20.0  \n",
       "AMT_INCOME_TOTAL            112500.0  153000.0  202500.0  117000000.0  \n",
       "AMT_CREDIT                  270000.0  500211.0  797557.5    4050000.0  \n",
       "AMT_ANNUITY                  16731.0   25078.5   34960.5     258025.5  \n",
       "...                              ...       ...       ...          ...  \n",
       "AMT_REQ_CREDIT_BUREAU_WEEK       0.0       0.0       0.0          8.0  \n",
       "AMT_REQ_CREDIT_BUREAU_MON        0.0       0.0       0.0         27.0  \n",
       "AMT_REQ_CREDIT_BUREAU_QRT        0.0       0.0       0.0        261.0  \n",
       "AMT_REQ_CREDIT_BUREAU_YEAR       0.0       1.0       3.0         25.0  \n",
       "TARGET                           0.0       0.0       0.0          1.0  \n",
       "\n",
       "[106 rows x 8 columns]"
      ]
     },
     "execution_count": 18,
     "metadata": {},
     "output_type": "execute_result"
    }
   ],
   "source": [
    "#Look at the summary stats. Rounding makes the numbers look nice. Transposing makes looking at the df a little more intuitive when looking for a variable.\n",
    "round(all_the_data.describe().T,2)"
   ]
  },
  {
   "cell_type": "markdown",
   "metadata": {},
   "source": [
    "### What are the correlations of the different variables with the target? <a class=\"anchor\" id=\"correlation\"></a>"
   ]
  },
  {
   "cell_type": "code",
   "execution_count": 19,
   "metadata": {},
   "outputs": [],
   "source": [
    "#Create the df of all the correlations\n",
    "corr_df = pd.DataFrame(all_the_data.corr())\n",
    "#Reduce the df to show only corr with the target\n",
    "corr_df = pd.DataFrame(corr_df[\"TARGET\"])\n",
    "#Name the columns\n",
    "corr_df.columns = [\"Correlation w/ Target\"]"
   ]
  },
  {
   "cell_type": "code",
   "execution_count": 20,
   "metadata": {},
   "outputs": [
    {
     "data": {
      "text/html": [
       "<div>\n",
       "<style scoped>\n",
       "    .dataframe tbody tr th:only-of-type {\n",
       "        vertical-align: middle;\n",
       "    }\n",
       "\n",
       "    .dataframe tbody tr th {\n",
       "        vertical-align: top;\n",
       "    }\n",
       "\n",
       "    .dataframe thead th {\n",
       "        text-align: right;\n",
       "    }\n",
       "</style>\n",
       "<table border=\"1\" class=\"dataframe\">\n",
       "  <thead>\n",
       "    <tr style=\"text-align: right;\">\n",
       "      <th></th>\n",
       "      <th>Correlation w/ Target</th>\n",
       "    </tr>\n",
       "  </thead>\n",
       "  <tbody>\n",
       "    <tr>\n",
       "      <th>EXT_SOURCE_3</th>\n",
       "      <td>-0.178919</td>\n",
       "    </tr>\n",
       "    <tr>\n",
       "      <th>EXT_SOURCE_2</th>\n",
       "      <td>-0.160472</td>\n",
       "    </tr>\n",
       "    <tr>\n",
       "      <th>EXT_SOURCE_1</th>\n",
       "      <td>-0.155317</td>\n",
       "    </tr>\n",
       "    <tr>\n",
       "      <th>DAYS_EMPLOYED</th>\n",
       "      <td>-0.044932</td>\n",
       "    </tr>\n",
       "    <tr>\n",
       "      <th>FLOORSMAX_AVG</th>\n",
       "      <td>-0.044003</td>\n",
       "    </tr>\n",
       "    <tr>\n",
       "      <th>...</th>\n",
       "      <td>...</td>\n",
       "    </tr>\n",
       "    <tr>\n",
       "      <th>DAYS_LAST_PHONE_CHANGE</th>\n",
       "      <td>0.055218</td>\n",
       "    </tr>\n",
       "    <tr>\n",
       "      <th>REGION_RATING_CLIENT</th>\n",
       "      <td>0.058899</td>\n",
       "    </tr>\n",
       "    <tr>\n",
       "      <th>REGION_RATING_CLIENT_W_CITY</th>\n",
       "      <td>0.060893</td>\n",
       "    </tr>\n",
       "    <tr>\n",
       "      <th>DAYS_BIRTH</th>\n",
       "      <td>0.078239</td>\n",
       "    </tr>\n",
       "    <tr>\n",
       "      <th>TARGET</th>\n",
       "      <td>1.000000</td>\n",
       "    </tr>\n",
       "  </tbody>\n",
       "</table>\n",
       "<p>106 rows × 1 columns</p>\n",
       "</div>"
      ],
      "text/plain": [
       "                             Correlation w/ Target\n",
       "EXT_SOURCE_3                             -0.178919\n",
       "EXT_SOURCE_2                             -0.160472\n",
       "EXT_SOURCE_1                             -0.155317\n",
       "DAYS_EMPLOYED                            -0.044932\n",
       "FLOORSMAX_AVG                            -0.044003\n",
       "...                                            ...\n",
       "DAYS_LAST_PHONE_CHANGE                    0.055218\n",
       "REGION_RATING_CLIENT                      0.058899\n",
       "REGION_RATING_CLIENT_W_CITY               0.060893\n",
       "DAYS_BIRTH                                0.078239\n",
       "TARGET                                    1.000000\n",
       "\n",
       "[106 rows x 1 columns]"
      ]
     },
     "execution_count": 20,
     "metadata": {},
     "output_type": "execute_result"
    }
   ],
   "source": [
    "#View the df\n",
    "corr_df.sort_values(\"Correlation w/ Target\")"
   ]
  },
  {
   "cell_type": "markdown",
   "metadata": {},
   "source": [
    "## Adding Some Data <a class=\"anchor\" id=\"add\"></a>"
   ]
  },
  {
   "cell_type": "code",
   "execution_count": 24,
   "metadata": {},
   "outputs": [
    {
     "data": {
      "text/html": [
       "<div>\n",
       "<style scoped>\n",
       "    .dataframe tbody tr th:only-of-type {\n",
       "        vertical-align: middle;\n",
       "    }\n",
       "\n",
       "    .dataframe tbody tr th {\n",
       "        vertical-align: top;\n",
       "    }\n",
       "\n",
       "    .dataframe thead th {\n",
       "        text-align: right;\n",
       "    }\n",
       "</style>\n",
       "<table border=\"1\" class=\"dataframe\">\n",
       "  <thead>\n",
       "    <tr style=\"text-align: right;\">\n",
       "      <th></th>\n",
       "      <th>Unnamed: 0</th>\n",
       "      <th>Table</th>\n",
       "      <th>Row</th>\n",
       "      <th>Description</th>\n",
       "      <th>Special</th>\n",
       "    </tr>\n",
       "  </thead>\n",
       "  <tbody>\n",
       "    <tr>\n",
       "      <th>173</th>\n",
       "      <td>176</td>\n",
       "      <td>previous_application.csv</td>\n",
       "      <td>SK_ID_PREV</td>\n",
       "      <td>ID of previous credit in Home credit related t...</td>\n",
       "      <td>hashed</td>\n",
       "    </tr>\n",
       "    <tr>\n",
       "      <th>174</th>\n",
       "      <td>177</td>\n",
       "      <td>previous_application.csv</td>\n",
       "      <td>SK_ID_CURR</td>\n",
       "      <td>ID of loan in our sample</td>\n",
       "      <td>hashed</td>\n",
       "    </tr>\n",
       "    <tr>\n",
       "      <th>175</th>\n",
       "      <td>178</td>\n",
       "      <td>previous_application.csv</td>\n",
       "      <td>NAME_CONTRACT_TYPE</td>\n",
       "      <td>Contract product type (Cash loan, consumer loa...</td>\n",
       "      <td>NaN</td>\n",
       "    </tr>\n",
       "    <tr>\n",
       "      <th>176</th>\n",
       "      <td>179</td>\n",
       "      <td>previous_application.csv</td>\n",
       "      <td>AMT_ANNUITY</td>\n",
       "      <td>Annuity of previous application</td>\n",
       "      <td>NaN</td>\n",
       "    </tr>\n",
       "    <tr>\n",
       "      <th>177</th>\n",
       "      <td>180</td>\n",
       "      <td>previous_application.csv</td>\n",
       "      <td>AMT_APPLICATION</td>\n",
       "      <td>For how much credit did client ask on the prev...</td>\n",
       "      <td>NaN</td>\n",
       "    </tr>\n",
       "    <tr>\n",
       "      <th>178</th>\n",
       "      <td>181</td>\n",
       "      <td>previous_application.csv</td>\n",
       "      <td>AMT_CREDIT</td>\n",
       "      <td>Final credit amount on the previous applicatio...</td>\n",
       "      <td>NaN</td>\n",
       "    </tr>\n",
       "    <tr>\n",
       "      <th>179</th>\n",
       "      <td>182</td>\n",
       "      <td>previous_application.csv</td>\n",
       "      <td>AMT_DOWN_PAYMENT</td>\n",
       "      <td>Down payment on the previous application</td>\n",
       "      <td>NaN</td>\n",
       "    </tr>\n",
       "    <tr>\n",
       "      <th>180</th>\n",
       "      <td>183</td>\n",
       "      <td>previous_application.csv</td>\n",
       "      <td>AMT_GOODS_PRICE</td>\n",
       "      <td>Goods price of good that client asked for (if ...</td>\n",
       "      <td>NaN</td>\n",
       "    </tr>\n",
       "    <tr>\n",
       "      <th>181</th>\n",
       "      <td>184</td>\n",
       "      <td>previous_application.csv</td>\n",
       "      <td>WEEKDAY_APPR_PROCESS_START</td>\n",
       "      <td>On which day of the week did the client apply ...</td>\n",
       "      <td>NaN</td>\n",
       "    </tr>\n",
       "    <tr>\n",
       "      <th>182</th>\n",
       "      <td>185</td>\n",
       "      <td>previous_application.csv</td>\n",
       "      <td>HOUR_APPR_PROCESS_START</td>\n",
       "      <td>Approximately at what day hour did the client ...</td>\n",
       "      <td>rounded</td>\n",
       "    </tr>\n",
       "  </tbody>\n",
       "</table>\n",
       "</div>"
      ],
      "text/plain": [
       "     Unnamed: 0                     Table                         Row  \\\n",
       "173         176  previous_application.csv                 SK_ID_PREV    \n",
       "174         177  previous_application.csv                  SK_ID_CURR   \n",
       "175         178  previous_application.csv          NAME_CONTRACT_TYPE   \n",
       "176         179  previous_application.csv                 AMT_ANNUITY   \n",
       "177         180  previous_application.csv             AMT_APPLICATION   \n",
       "178         181  previous_application.csv                  AMT_CREDIT   \n",
       "179         182  previous_application.csv            AMT_DOWN_PAYMENT   \n",
       "180         183  previous_application.csv             AMT_GOODS_PRICE   \n",
       "181         184  previous_application.csv  WEEKDAY_APPR_PROCESS_START   \n",
       "182         185  previous_application.csv     HOUR_APPR_PROCESS_START   \n",
       "\n",
       "                                           Description  Special  \n",
       "173  ID of previous credit in Home credit related t...   hashed  \n",
       "174                           ID of loan in our sample   hashed  \n",
       "175  Contract product type (Cash loan, consumer loa...      NaN  \n",
       "176                    Annuity of previous application      NaN  \n",
       "177  For how much credit did client ask on the prev...      NaN  \n",
       "178  Final credit amount on the previous applicatio...      NaN  \n",
       "179           Down payment on the previous application      NaN  \n",
       "180  Goods price of good that client asked for (if ...      NaN  \n",
       "181  On which day of the week did the client apply ...      NaN  \n",
       "182  Approximately at what day hour did the client ...  rounded  "
      ]
     },
     "execution_count": 24,
     "metadata": {},
     "output_type": "execute_result"
    }
   ],
   "source": [
    "#Look at the files that we are currently using\n",
    "column_names_and_descriptions[column_names_and_descriptions[\"Table\"] == 'previous_application.csv'][:10] #the last bit is for the requirement of avoiding long output"
   ]
  },
  {
   "cell_type": "markdown",
   "metadata": {},
   "source": [
    "### What is the correlation with the added data? <a class=\"anchor\" id=\"add_corr\"></a>"
   ]
  },
  {
   "cell_type": "code",
   "execution_count": 22,
   "metadata": {},
   "outputs": [],
   "source": [
    "#Create the df of all the correlations\n",
    "add_corr_df = pd.DataFrame(main_data_joined_prevapp.corr())\n",
    "#Reduce the df to show only corr with the target\n",
    "add_corr_df = pd.DataFrame(add_corr_df[\"TARGET\"])\n",
    "#Name the columns\n",
    "add_corr_df.columns = [\"Correlation w/ Target\"]"
   ]
  },
  {
   "cell_type": "code",
   "execution_count": 23,
   "metadata": {
    "scrolled": false
   },
   "outputs": [
    {
     "data": {
      "text/html": [
       "<div>\n",
       "<style scoped>\n",
       "    .dataframe tbody tr th:only-of-type {\n",
       "        vertical-align: middle;\n",
       "    }\n",
       "\n",
       "    .dataframe tbody tr th {\n",
       "        vertical-align: top;\n",
       "    }\n",
       "\n",
       "    .dataframe thead th {\n",
       "        text-align: right;\n",
       "    }\n",
       "</style>\n",
       "<table border=\"1\" class=\"dataframe\">\n",
       "  <thead>\n",
       "    <tr style=\"text-align: right;\">\n",
       "      <th></th>\n",
       "      <th>Correlation w/ Target</th>\n",
       "    </tr>\n",
       "  </thead>\n",
       "  <tbody>\n",
       "    <tr>\n",
       "      <th>EXT_SOURCE_3</th>\n",
       "      <td>-0.188381</td>\n",
       "    </tr>\n",
       "    <tr>\n",
       "      <th>EXT_SOURCE_2</th>\n",
       "      <td>-0.155211</td>\n",
       "    </tr>\n",
       "    <tr>\n",
       "      <th>EXT_SOURCE_1</th>\n",
       "      <td>-0.153187</td>\n",
       "    </tr>\n",
       "    <tr>\n",
       "      <th>DAYS_EMPLOYED</th>\n",
       "      <td>-0.047409</td>\n",
       "    </tr>\n",
       "    <tr>\n",
       "      <th>FLOORSMAX_AVG</th>\n",
       "      <td>-0.041886</td>\n",
       "    </tr>\n",
       "    <tr>\n",
       "      <th>...</th>\n",
       "      <td>...</td>\n",
       "    </tr>\n",
       "    <tr>\n",
       "      <th>REGION_RATING_CLIENT</th>\n",
       "      <td>0.057135</td>\n",
       "    </tr>\n",
       "    <tr>\n",
       "      <th>DAYS_LAST_PHONE_CHANGE</th>\n",
       "      <td>0.058110</td>\n",
       "    </tr>\n",
       "    <tr>\n",
       "      <th>REGION_RATING_CLIENT_W_CITY</th>\n",
       "      <td>0.059832</td>\n",
       "    </tr>\n",
       "    <tr>\n",
       "      <th>DAYS_BIRTH</th>\n",
       "      <td>0.074314</td>\n",
       "    </tr>\n",
       "    <tr>\n",
       "      <th>TARGET</th>\n",
       "      <td>1.000000</td>\n",
       "    </tr>\n",
       "  </tbody>\n",
       "</table>\n",
       "<p>126 rows × 1 columns</p>\n",
       "</div>"
      ],
      "text/plain": [
       "                             Correlation w/ Target\n",
       "EXT_SOURCE_3                             -0.188381\n",
       "EXT_SOURCE_2                             -0.155211\n",
       "EXT_SOURCE_1                             -0.153187\n",
       "DAYS_EMPLOYED                            -0.047409\n",
       "FLOORSMAX_AVG                            -0.041886\n",
       "...                                            ...\n",
       "REGION_RATING_CLIENT                      0.057135\n",
       "DAYS_LAST_PHONE_CHANGE                    0.058110\n",
       "REGION_RATING_CLIENT_W_CITY               0.059832\n",
       "DAYS_BIRTH                                0.074314\n",
       "TARGET                                    1.000000\n",
       "\n",
       "[126 rows x 1 columns]"
      ]
     },
     "execution_count": 23,
     "metadata": {},
     "output_type": "execute_result"
    }
   ],
   "source": [
    "#View the df\n",
    "add_corr_df.sort_values(\"Correlation w/ Target\")"
   ]
  },
  {
   "cell_type": "markdown",
   "metadata": {},
   "source": [
    "## Results <a class=\"anchor\" id=\"results\"></a>"
   ]
  },
  {
   "cell_type": "markdown",
   "metadata": {},
   "source": [
    "We have found that the highest correlated items are those related to the credit score of the individual. These will likely be key in the final analysis. In looking at the missing values, it is clear that there are a good amount of null values. We will likely remove those that are missing more than 60% of the data. That is, unless we later decide that these are helpful. At this point we are likely not going to use any of them.\n",
    "Based on the vizualizations, we found that there is a tendency for loans to be smaller rather than larger. Of these loans it is a cash dominant loan market. The majority of both sides of the target took out a cash loan. The results show that those that pursued higher have a higher amount of loans that they must take care of.\n",
    "The joined dataset will need to be relooked at as the way the join is happening is creating many new records.\n",
    "Cleaning will continue in the next phase with taking care of the nulls, normalizing where it has not been done already, and considering the use of any needed dummy variables."
   ]
  }
 ],
 "metadata": {
  "kernelspec": {
   "display_name": "Python 3",
   "language": "python",
   "name": "python3"
  },
  "language_info": {
   "codemirror_mode": {
    "name": "ipython",
    "version": 3
   },
   "file_extension": ".py",
   "mimetype": "text/x-python",
   "name": "python",
   "nbconvert_exporter": "python",
   "pygments_lexer": "ipython3",
   "version": "3.6.4"
  }
 },
 "nbformat": 4,
 "nbformat_minor": 5
}
